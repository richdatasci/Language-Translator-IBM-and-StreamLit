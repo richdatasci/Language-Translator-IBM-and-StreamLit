{
  "cells": [
    {
      "cell_type": "code",
      "execution_count": 1,
      "metadata": {
        "collapsed": true,
        "colab": {
          "base_uri": "https://localhost:8080/"
        },
        "id": "KRawu7_2KY-6",
        "outputId": "d82ef865-23ba-43c3-c265-9aded98f6401"
      },
      "outputs": [
        {
          "output_type": "stream",
          "name": "stdout",
          "text": [
            "Collecting ibm_watson\n",
            "  Downloading ibm-watson-6.0.0.tar.gz (338 kB)\n",
            "\u001b[K     |████████████████████████████████| 338 kB 4.2 MB/s \n",
            "\u001b[?25h  Installing build dependencies ... \u001b[?25l\u001b[?25hdone\n",
            "  Getting requirements to build wheel ... \u001b[?25l\u001b[?25hdone\n",
            "    Preparing wheel metadata ... \u001b[?25l\u001b[?25hdone\n",
            "Collecting ibm-cloud-sdk-core==3.*,>=3.3.6\n",
            "  Downloading ibm-cloud-sdk-core-3.15.1.tar.gz (50 kB)\n",
            "\u001b[K     |████████████████████████████████| 50 kB 5.8 MB/s \n",
            "\u001b[?25hRequirement already satisfied: requests<3.0,>=2.0 in /usr/local/lib/python3.7/dist-packages (from ibm_watson) (2.23.0)\n",
            "Requirement already satisfied: python-dateutil>=2.5.3 in /usr/local/lib/python3.7/dist-packages (from ibm_watson) (2.8.2)\n",
            "Collecting websocket-client==1.1.0\n",
            "  Downloading websocket_client-1.1.0-py2.py3-none-any.whl (68 kB)\n",
            "\u001b[K     |████████████████████████████████| 68 kB 6.2 MB/s \n",
            "\u001b[?25hCollecting requests<3.0,>=2.0\n",
            "  Downloading requests-2.27.1-py2.py3-none-any.whl (63 kB)\n",
            "\u001b[K     |████████████████████████████████| 63 kB 1.6 MB/s \n",
            "\u001b[?25hCollecting urllib3<2.0.0,>=1.26.0\n",
            "  Downloading urllib3-1.26.9-py2.py3-none-any.whl (138 kB)\n",
            "\u001b[K     |████████████████████████████████| 138 kB 55.5 MB/s \n",
            "\u001b[?25hCollecting PyJWT<3.0.0,>=2.0.1\n",
            "  Downloading PyJWT-2.4.0-py3-none-any.whl (18 kB)\n",
            "Requirement already satisfied: six>=1.5 in /usr/local/lib/python3.7/dist-packages (from python-dateutil>=2.5.3->ibm_watson) (1.15.0)\n",
            "Requirement already satisfied: certifi>=2017.4.17 in /usr/local/lib/python3.7/dist-packages (from requests<3.0,>=2.0->ibm_watson) (2021.10.8)\n",
            "Requirement already satisfied: charset-normalizer~=2.0.0 in /usr/local/lib/python3.7/dist-packages (from requests<3.0,>=2.0->ibm_watson) (2.0.12)\n",
            "Requirement already satisfied: idna<4,>=2.5 in /usr/local/lib/python3.7/dist-packages (from requests<3.0,>=2.0->ibm_watson) (2.10)\n",
            "Building wheels for collected packages: ibm-watson, ibm-cloud-sdk-core\n",
            "  Building wheel for ibm-watson (PEP 517) ... \u001b[?25l\u001b[?25hdone\n",
            "  Created wheel for ibm-watson: filename=ibm_watson-6.0.0-py3-none-any.whl size=336807 sha256=daab456a53b7c1ca14a70c0485a948f940c186c3ee6247791c401ee15c7bf86a\n",
            "  Stored in directory: /root/.cache/pip/wheels/31/de/dd/1002a4fdfeed1322ccffb20b0a12e00afbeeee8df4a86769d7\n",
            "  Building wheel for ibm-cloud-sdk-core (setup.py) ... \u001b[?25l\u001b[?25hdone\n",
            "  Created wheel for ibm-cloud-sdk-core: filename=ibm_cloud_sdk_core-3.15.1-py3-none-any.whl size=83648 sha256=0f26ff19e7243a50e8816e1309e60d32d478591fc52c2f09691d565d465ca863\n",
            "  Stored in directory: /root/.cache/pip/wheels/ba/7a/ac/408ba6a1438ea293164dbf26483b13a72165894a31e914b5e6\n",
            "Successfully built ibm-watson ibm-cloud-sdk-core\n",
            "Installing collected packages: urllib3, requests, PyJWT, websocket-client, ibm-cloud-sdk-core, ibm-watson\n",
            "  Attempting uninstall: urllib3\n",
            "    Found existing installation: urllib3 1.24.3\n",
            "    Uninstalling urllib3-1.24.3:\n",
            "      Successfully uninstalled urllib3-1.24.3\n",
            "  Attempting uninstall: requests\n",
            "    Found existing installation: requests 2.23.0\n",
            "    Uninstalling requests-2.23.0:\n",
            "      Successfully uninstalled requests-2.23.0\n",
            "\u001b[31mERROR: pip's dependency resolver does not currently take into account all the packages that are installed. This behaviour is the source of the following dependency conflicts.\n",
            "google-colab 1.0.0 requires requests~=2.23.0, but you have requests 2.27.1 which is incompatible.\n",
            "datascience 0.10.6 requires folium==0.2.1, but you have folium 0.8.3 which is incompatible.\u001b[0m\n",
            "Successfully installed PyJWT-2.4.0 ibm-cloud-sdk-core-3.15.1 ibm-watson-6.0.0 requests-2.27.1 urllib3-1.26.9 websocket-client-1.1.0\n"
          ]
        }
      ],
      "source": [
        "!pip install ibm_watson"
      ]
    },
    {
      "cell_type": "markdown",
      "metadata": {
        "id": "Fk5dbOm2KY_C"
      },
      "source": [
        "### Workflow\n",
        "\n",
        "I will capture the text in Python, then I will send this to the IBM cloud where the text will be converted to our desired language.  I will then convert the translated text into speech using \"Watson AI\" and create an output file."
      ]
    },
    {
      "cell_type": "markdown",
      "metadata": {
        "id": "Z-cqax9gKY_K"
      },
      "source": [
        "## 1. Authenticate"
      ]
    },
    {
      "cell_type": "code",
      "execution_count": 2,
      "metadata": {
        "id": "7Mi5q1GvKY_L"
      },
      "outputs": [],
      "source": [
        "API_key = '0g81zqW9kVgWIF48jvkfxJ41kNayYP3MhuEEHuc0CRbL'\n",
        "url = 'https://api.au-syd.language-translator.watson.cloud.ibm.com/instances/6c41a5d8-23bc-4b36-ac8d-feaf40757e3e'\n"
      ]
    },
    {
      "cell_type": "code",
      "execution_count": 3,
      "metadata": {
        "id": "OHSGc2wCKY_O"
      },
      "outputs": [],
      "source": [
        "# importing libraries\n",
        "\n",
        "from ibm_watson import LanguageTranslatorV3\n",
        "from ibm_cloud_sdk_core.authenticators import IAMAuthenticator"
      ]
    },
    {
      "cell_type": "code",
      "execution_count": 5,
      "metadata": {
        "id": "hMsOLbNFKY_Q"
      },
      "outputs": [],
      "source": [
        "# set the authenticator, language translator and connect to the service. \n",
        "\n",
        "authenticator = IAMAuthenticator(apikey=API_key)\n",
        "\n",
        "langtranslator = LanguageTranslatorV3(version='2018-05-01',\n",
        "                                     authenticator=authenticator)\n",
        "\n",
        "langtranslator.set_service_url(url)"
      ]
    },
    {
      "cell_type": "markdown",
      "metadata": {
        "id": "KB8xSLNAKY_T"
      },
      "source": [
        "## 2.Translate"
      ]
    },
    {
      "cell_type": "markdown",
      "metadata": {
        "id": "u5DFH0PeKY_V"
      },
      "source": [
        "I have to now refer to the language translator documentation,  it has a lot of languages and I need to specify which languages I would like to include in the translator.  The documentation can be found <a href=\"https://cloud.ibm.com/docs/language-translator?topic=language-translator-translation-models\">here.</a>"
      ]
    },
    {
      "cell_type": "markdown",
      "metadata": {
        "id": "FvYiCcjnKY_Y"
      },
      "source": [
        "<table>\n",
        "            <caption>Table 1. Translatable languages</caption>\n",
        "            <thead>\n",
        "              <tr class=\"doc-tr-even\">\n",
        "                <th>Language</th>\n",
        "                <th style=\"text-align:center\">Language code</th>\n",
        "                <th>Language</th>\n",
        "                <th style=\"text-align:center\">Language code</th>\n",
        "              </tr>\n",
        "            </thead>\n",
        "            <tbody>\n",
        "              <tr class=\"doc-tr-odd\">\n",
        "                <td><a href=\"#arabic\">Arabic</a></td>\n",
        "                <td style=\"text-align:center\"><code>ar</code></td>\n",
        "                <td><a href=\"#korean\">Korean</a></td>\n",
        "                <td style=\"text-align:center\"><code>ko</code></td>\n",
        "              </tr>\n",
        "              <tr class=\"doc-tr-even\">\n",
        "                <td><a href=\"#basque\">Basque</a> <strong>[1]</strong></td>\n",
        "                <td style=\"text-align:center\"><code>eu</code></td>\n",
        "                <td><a href=\"#latvian\">Latvian</a></td>\n",
        "                <td style=\"text-align:center\"><code>lv</code></td>\n",
        "              </tr>\n",
        "              <tr class=\"doc-tr-odd\">\n",
        "                <td><a href=\"#bengali\">Bengali</a></td>\n",
        "                <td style=\"text-align:center\"><code>bn</code></td>\n",
        "                <td><a href=\"#lithuanian\">Lithuanian</a></td>\n",
        "                <td style=\"text-align:center\"><code>lt</code></td>\n",
        "              </tr>\n",
        "              <tr class=\"doc-tr-even\">\n",
        "                <td><a href=\"#bosnian\">Bosnian</a></td>\n",
        "                <td style=\"text-align:center\"><code>bs</code></td>\n",
        "                <td><a href=\"#malay\">Malay</a></td>\n",
        "                <td style=\"text-align:center\"><code>ms</code></td>\n",
        "              </tr>\n",
        "              <tr class=\"doc-tr-odd\">\n",
        "                <td><a href=\"#bulgarian\">Bulgarian</a></td>\n",
        "                <td style=\"text-align:center\"><code>bg</code></td>\n",
        "                <td><a href=\"#malayalam\">Malayalam</a></td>\n",
        "                <td style=\"text-align:center\"><code>ml</code></td>\n",
        "              </tr>\n",
        "              <tr class=\"doc-tr-even\">\n",
        "                <td><a href=\"#catalan\">Catalan</a> <strong>[1]</strong></td>\n",
        "                <td style=\"text-align:center\"><code>ca</code></td>\n",
        "                <td><a href=\"#maltese\">Maltese</a></td>\n",
        "                <td style=\"text-align:center\"><code>mt</code></td>\n",
        "              </tr>\n",
        "              <tr class=\"doc-tr-odd\">\n",
        "                <td><a href=\"#chinese-simplified\">Chinese (Simplified)</a></td>\n",
        "                <td style=\"text-align:center\"><code>zh</code></td>\n",
        "                <td><a href=\"#montenegrin\">Montenegrin</a> <strong>[2]</strong></td>\n",
        "                <td style=\"text-align:center\"><code>cnr</code></td>\n",
        "              </tr>\n",
        "              <tr class=\"doc-tr-even\">\n",
        "                <td><a href=\"#chinese-traditional\">Chinese (Traditional)</a></td>\n",
        "                <td style=\"text-align:center\"><code>zh-TW</code></td>\n",
        "                <td><a href=\"#nepali\">Nepali</a></td>\n",
        "                <td style=\"text-align:center\"><code>ne</code></td>\n",
        "              </tr>\n",
        "              <tr class=\"doc-tr-odd\">\n",
        "                <td><a href=\"#croatian\">Croatian</a></td>\n",
        "                <td style=\"text-align:center\"><code>hr</code></td>\n",
        "                <td><a href=\"#norwegian-bokmal\">Norwegian Bokmål</a></td>\n",
        "                <td style=\"text-align:center\"><code>nb</code></td>\n",
        "              </tr>\n",
        "              <tr class=\"doc-tr-even\">\n",
        "                <td><a href=\"#czech\">Czech</a></td>\n",
        "                <td style=\"text-align:center\"><code>cs</code></td>\n",
        "                <td><a href=\"#polish\">Polish</a></td>\n",
        "                <td style=\"text-align:center\"><code>pl</code></td>\n",
        "              </tr>\n",
        "              <tr class=\"doc-tr-odd\">\n",
        "                <td><a href=\"#danish\">Danish</a></td>\n",
        "                <td style=\"text-align:center\"><code>da</code></td>\n",
        "                <td><a href=\"#portuguese\">Portuguese</a></td>\n",
        "                <td style=\"text-align:center\"><code>pt</code></td>\n",
        "              </tr>\n",
        "              <tr class=\"doc-tr-even\">\n",
        "                <td><a href=\"#dutch\">Dutch</a></td>\n",
        "                <td style=\"text-align:center\"><code>nl</code></td>\n",
        "                <td><a href=\"#romanian\">Romanian</a></td>\n",
        "                <td style=\"text-align:center\"><code>ro</code></td>\n",
        "              </tr>\n",
        "              <tr class=\"doc-tr-odd\">\n",
        "                <td><a href=\"#english\">English</a></td>\n",
        "                <td style=\"text-align:center\"><code>en</code></td>\n",
        "                <td><a href=\"#russian\">Russian</a></td>\n",
        "                <td style=\"text-align:center\"><code>ru</code></td>\n",
        "              </tr>\n",
        "              <tr class=\"doc-tr-even\">\n",
        "                <td><a href=\"#estonian\">Estonian</a></td>\n",
        "                <td style=\"text-align:center\"><code>et</code></td>\n",
        "                <td><a href=\"#serbian\">Serbian</a> <strong>[3]</strong></td>\n",
        "                <td style=\"text-align:center\"><code>sr</code></td>\n",
        "              </tr>\n",
        "              <tr class=\"doc-tr-odd\">\n",
        "                <td><a href=\"#finnish\">Finnish</a></td>\n",
        "                <td style=\"text-align:center\"><code>fi</code></td>\n",
        "                <td><a href=\"#sinhala\">Sinhala</a></td>\n",
        "                <td style=\"text-align:center\"><code>si</code></td>\n",
        "              </tr>\n",
        "              <tr class=\"doc-tr-even\">\n",
        "                <td><a href=\"#french\">French</a></td>\n",
        "                <td style=\"text-align:center\"><code>fr</code></td>\n",
        "                <td><a href=\"#slovak\">Slovak</a></td>\n",
        "                <td style=\"text-align:center\"><code>sk</code></td>\n",
        "              </tr>\n",
        "              <tr class=\"doc-tr-odd\">\n",
        "                <td><a href=\"#french-canadian\">French (Canadian)</a></td>\n",
        "                <td style=\"text-align:center\"><code>fr</code></td>\n",
        "                <td><a href=\"#slovenian\">Slovenian</a></td>\n",
        "                <td style=\"text-align:center\"><code>sl</code></td>\n",
        "              </tr>\n",
        "              <tr class=\"doc-tr-even\">\n",
        "                <td><a href=\"#german\">German</a></td>\n",
        "                <td style=\"text-align:center\"><code>de</code></td>\n",
        "                <td><a href=\"#spanish\">Spanish</a></td>\n",
        "                <td style=\"text-align:center\"><code>es</code></td>\n",
        "              </tr>\n",
        "              <tr class=\"doc-tr-odd\">\n",
        "                <td><a href=\"#greek\">Greek</a></td>\n",
        "                <td style=\"text-align:center\"><code>el</code></td>\n",
        "                <td><a href=\"#swedish\">Swedish</a></td>\n",
        "                <td style=\"text-align:center\"><code>sv</code></td>\n",
        "              </tr>\n",
        "              <tr class=\"doc-tr-even\">\n",
        "                <td><a href=\"#gujarati\">Gujarati</a></td>\n",
        "                <td style=\"text-align:center\"><code>gu</code></td>\n",
        "                <td><a href=\"#tamil\">Tamil</a></td>\n",
        "                <td style=\"text-align:center\"><code>ta</code></td>\n",
        "              </tr>\n",
        "              <tr class=\"doc-tr-odd\">\n",
        "                <td><a href=\"#hebrew\">Hebrew</a></td>\n",
        "                <td style=\"text-align:center\"><code>he</code></td>\n",
        "                <td><a href=\"#telugu\">Telugu</a></td>\n",
        "                <td style=\"text-align:center\"><code>te</code></td>\n",
        "              </tr>\n",
        "              <tr class=\"doc-tr-even\">\n",
        "                <td><a href=\"#hindi\">Hindi</a></td>\n",
        "                <td style=\"text-align:center\"><code>hi</code></td>\n",
        "                <td><a href=\"#thai\">Thai</a></td>\n",
        "                <td style=\"text-align:center\"><code>th</code></td>\n",
        "              </tr>\n",
        "              <tr class=\"doc-tr-odd\">\n",
        "                <td><a href=\"#hungarian\">Hungarian</a></td>\n",
        "                <td style=\"text-align:center\"><code>hu</code></td>\n",
        "                <td><a href=\"#turkish\">Turkish</a></td>\n",
        "                <td style=\"text-align:center\"><code>tr</code></td>\n",
        "              </tr>\n",
        "              <tr class=\"doc-tr-even\">\n",
        "                <td><a href=\"#irish\">Irish</a></td>\n",
        "                <td style=\"text-align:center\"><code>ga</code></td>\n",
        "                <td><a href=\"#ukrainian\">Ukrainian</a></td>\n",
        "                <td style=\"text-align:center\"><code>uk</code></td>\n",
        "              </tr>\n",
        "              <tr class=\"doc-tr-odd\">\n",
        "                <td><a href=\"#indonesian\">Indonesian</a></td>\n",
        "                <td style=\"text-align:center\"><code>id</code></td>\n",
        "                <td><a href=\"#urdu\">Urdu</a></td>\n",
        "                <td style=\"text-align:center\"><code>ur</code></td>\n",
        "              </tr>\n",
        "              <tr class=\"doc-tr-even\">\n",
        "                <td><a href=\"#italian\">Italian</a></td>\n",
        "                <td style=\"text-align:center\"><code>it</code></td>\n",
        "                <td><a href=\"#vietnamese\">Vietnamese</a></td>\n",
        "                <td style=\"text-align:center\"><code>vi</code></td>\n",
        "              </tr>\n",
        "              <tr class=\"doc-tr-odd\">\n",
        "                <td><a href=\"#japanese\">Japanese</a></td>\n",
        "                <td style=\"text-align:center\"><code>ja</code></td>\n",
        "                <td><a href=\"#welsh\">Welsh</a></td>\n",
        "                <td style=\"text-align:center\"><code>cy</code></td>\n",
        "              </tr>\n",
        "            </tbody>\n",
        "          </table>"
      ]
    },
    {
      "cell_type": "markdown",
      "source": [
        "I have selected Serbian for an example. "
      ],
      "metadata": {
        "id": "6XQBX0bSNA4M"
      }
    },
    {
      "cell_type": "code",
      "execution_count": 6,
      "metadata": {
        "id": "kghH9ym6KY_f"
      },
      "outputs": [],
      "source": [
        "translation = langtranslator.translate(text='Hello World',model_id='en-sr')"
      ]
    },
    {
      "cell_type": "code",
      "execution_count": 7,
      "metadata": {
        "colab": {
          "base_uri": "https://localhost:8080/"
        },
        "id": "TX_UxXllKY_g",
        "outputId": "15cad60b-abb2-4264-f8eb-8622f8b92ec5"
      },
      "outputs": [
        {
          "output_type": "execute_result",
          "data": {
            "text/plain": [
              "{'character_count': 11,\n",
              " 'translations': [{'translation': 'Здраво свет'}],\n",
              " 'word_count': 2}"
            ]
          },
          "metadata": {},
          "execution_count": 7
        }
      ],
      "source": [
        "translation.get_result()"
      ]
    },
    {
      "cell_type": "code",
      "execution_count": 9,
      "metadata": {
        "colab": {
          "base_uri": "https://localhost:8080/"
        },
        "id": "-5JrYk4kKY_i",
        "outputId": "ac58376b-6c45-43cd-a760-2f1e55276077"
      },
      "outputs": [
        {
          "output_type": "execute_result",
          "data": {
            "text/plain": [
              "{'character_count': 949,\n",
              " 'translations': [{'translation': 'Према консензусу у модерној генетици анатомски модерни људи први пут су стигли на Индијски потконтинент из Африке од пре 73.000 до 55.000 година. Насељени живот, који укључује прелаз из траљања на пољопривреду и пасторализам, почео је у Јужној Азији око 7.000 п. н. е. На месту Мехргарх присутности могу се документовати припитомљавање пшенице и јечма, брзо праћено козама, овцама и стоком. [2] До 4.500 п. н. е, настањени живот се проширио шире, [2] и почео постепено да се развија у цивилизацији долине Инда, рану цивилизацију Старог света, која је била савременија са древним Египтом и Месопотамијом. Ова цивилизација је цветала између 2.500. п. н. е. и 1900. године пре нове ере у Пакистану и северозападној Индији, и била је позната по урбанистичком планирању, печене куће од цигала, разрађена дренажа и снабдевање водом. [3]'}],\n",
              " 'word_count': 179}"
            ]
          },
          "metadata": {},
          "execution_count": 9
        }
      ],
      "source": [
        "## trying for bigger text\n",
        "\n",
        "text = 'According to consensus in modern genetics anatomically modern humans first arrived on the Indian subcontinent from Africa between 73,000 and 55,000 years ago.[1] However, the earliest known human remains in South Asia date to 30,000 years ago. Settled life, which involves the transition from foraging to farming and pastoralism, began in South Asia around 7,000 BCE. At the site of Mehrgarh presence can be documented of the domestication of wheat and barley, rapidly followed by that of goats, sheep, and cattle.[2] By 4,500 BCE, settled life had spread more widely,[2] and began to gradually evolve into the Indus Valley Civilization, an early civilization of the Old world, which was contemporaneous with Ancient Egypt and Mesopotamia. This civilisation flourished between 2,500 BCE and 1900 BCE in what today is Pakistan and north-western India, and was noted for its urban planning, baked brick houses, elaborate drainage, and water supply.[3]'\n",
        "\n",
        "translation = langtranslator.translate(text=text,model_id='en-sr')\n",
        "\n",
        "translation.get_result()"
      ]
    },
    {
      "cell_type": "markdown",
      "metadata": {
        "id": "4vwv1MVkKY_j"
      },
      "source": [
        "This is a powerful tool which can be used to translate websites and other online services or apps.  "
      ]
    },
    {
      "cell_type": "code",
      "execution_count": 10,
      "metadata": {
        "colab": {
          "base_uri": "https://localhost:8080/",
          "height": 126
        },
        "id": "O9O94TKJKY_j",
        "outputId": "757aa31d-7433-4cd8-eb46-bfd44bbed86e"
      },
      "outputs": [
        {
          "output_type": "execute_result",
          "data": {
            "text/plain": [
              "'Према консензусу у модерној генетици анатомски модерни људи први пут су стигли на Индијски потконтинент из Африке од пре 73.000 до 55.000 година. Насељени живот, који укључује прелаз из траљања на пољопривреду и пасторализам, почео је у Јужној Азији око 7.000 п. н. е. На месту Мехргарх присутности могу се документовати припитомљавање пшенице и јечма, брзо праћено козама, овцама и стоком. [2] До 4.500 п. н. е, настањени живот се проширио шире, [2] и почео постепено да се развија у цивилизацији долине Инда, рану цивилизацију Старог света, која је била савременија са древним Египтом и Месопотамијом. Ова цивилизација је цветала између 2.500. п. н. е. и 1900. године пре нове ере у Пакистану и северозападној Индији, и била је позната по урбанистичком планирању, печене куће од цигала, разрађена дренажа и снабдевање водом. [3]'"
            ],
            "application/vnd.google.colaboratory.intrinsic+json": {
              "type": "string"
            }
          },
          "metadata": {},
          "execution_count": 10
        }
      ],
      "source": [
        "translation.get_result()['translations'][0]['translation']"
      ]
    }
  ],
  "metadata": {
    "kernelspec": {
      "display_name": "Python 3",
      "language": "python",
      "name": "python3"
    },
    "language_info": {
      "codemirror_mode": {
        "name": "ipython",
        "version": 3
      },
      "file_extension": ".py",
      "mimetype": "text/x-python",
      "name": "python",
      "nbconvert_exporter": "python",
      "pygments_lexer": "ipython3",
      "version": "3.9.1"
    },
    "colab": {
      "name": "Language Translation using  IBM Watson.ipynb",
      "provenance": [],
      "collapsed_sections": []
    }
  },
  "nbformat": 4,
  "nbformat_minor": 0
}